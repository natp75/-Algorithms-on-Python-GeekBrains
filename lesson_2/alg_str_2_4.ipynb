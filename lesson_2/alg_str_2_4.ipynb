{
 "cells": [
  {
   "cell_type": "code",
   "execution_count": null,
   "id": "47bf879d",
   "metadata": {},
   "outputs": [],
   "source": [
    "# 4. Найти сумму n элементов следующего ряда чисел: 1, -0.5, 0.25, -0.125, ...\n",
    "# Количество элементов (n) вводится с клавиатуры.\n",
    "\n",
    "length = int(input('Введите длину последовательности: '))\n",
    "summa = 0\n",
    "for i in range(length):\n",
    "    summa += 1 / (-2) ** i\n",
    "print(f'Сумма последовательности = {summa}')"
   ]
  },
  {
   "cell_type": "code",
   "execution_count": null,
   "id": "f577bfd5",
   "metadata": {},
   "outputs": [],
   "source": []
  }
 ],
 "metadata": {
  "kernelspec": {
   "display_name": "Python 3",
   "language": "python",
   "name": "python3"
  },
  "language_info": {
   "codemirror_mode": {
    "name": "ipython",
    "version": 3
   },
   "file_extension": ".py",
   "mimetype": "text/x-python",
   "name": "python",
   "nbconvert_exporter": "python",
   "pygments_lexer": "ipython3",
   "version": "3.8.8"
  }
 },
 "nbformat": 4,
 "nbformat_minor": 5
}
