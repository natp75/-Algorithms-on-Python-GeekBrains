{
 "cells": [
  {
   "cell_type": "code",
   "execution_count": null,
   "id": "1e4e3ba4",
   "metadata": {},
   "outputs": [],
   "source": [
    "# Среди натуральных чисел, которые были введены, найти наибольшее по сумме цифр.\n",
    "# Вывести на экран это число и сумму его цифр.\n",
    "\n",
    "num = int(input('Введите целое число. Чтобы выйти введите 0.\\nnum = '))\n",
    "max_sum = 0\n",
    "while num != 0:\n",
    "    digit_sum = 0\n",
    "    n = num\n",
    "    while num % 10 != 0 or num // 10 != 0:\n",
    "        digit_sum += num % 10\n",
    "        num //= 10\n",
    "    if digit_sum > max_sum:\n",
    "        max_sum = digit_sum\n",
    "        max_num = n\n",
    "    num = int(input('Введите целое число. Чтобы выйти введите 0.\\nnum = '))\n",
    "print(f'У числа {max_num} наибольшая сумма цифр = {max_sum}')"
   ]
  }
 ],
 "metadata": {
  "kernelspec": {
   "display_name": "Python 3",
   "language": "python",
   "name": "python3"
  },
  "language_info": {
   "codemirror_mode": {
    "name": "ipython",
    "version": 3
   },
   "file_extension": ".py",
   "mimetype": "text/x-python",
   "name": "python",
   "nbconvert_exporter": "python",
   "pygments_lexer": "ipython3",
   "version": "3.8.8"
  }
 },
 "nbformat": 4,
 "nbformat_minor": 5
}
