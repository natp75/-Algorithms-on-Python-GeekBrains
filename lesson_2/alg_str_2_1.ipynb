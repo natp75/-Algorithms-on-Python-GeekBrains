{
 "cells": [
  {
   "cell_type": "code",
   "execution_count": 1,
   "id": "b58a1320",
   "metadata": {},
   "outputs": [
    {
     "name": "stdout",
     "output_type": "stream",
     "text": [
      "Введите пример или 0 для выхода:\n",
      "0\n",
      "До свидания\n"
     ]
    }
   ],
   "source": [
    "# 1. Написать программу, которая будет складывать, вычитать, умножать или делить два числа.\n",
    "# Числа и знак операции вводятся пользователем.\n",
    "# После выполнения вычисления программа не должна завершаться, а должна запрашивать новые данные для вычислений.\n",
    "# Завершение программы должно выполняться при вводе символа '0' в качестве знака операции.\n",
    "# Если пользователь вводит неверный знак (не '0', '+', '-', '*', '/'), то программа должна сообщать ему об ошибке\n",
    "# и снова запрашивать знак операции.\n",
    "# Также сообщать пользователю о невозможности деления на ноль, если он ввел 0 в качестве делителя.\n",
    "\n",
    "equation = input('Введите пример или 0 для выхода:\\n')\n",
    "while equation != '0':\n",
    "    eq = list(equation.split())\n",
    "    a = float(eq[0])\n",
    "    b = float(eq[2])\n",
    "    answer = \"нет решения\"\n",
    "    if eq[1] == '+':\n",
    "        answer = a + b\n",
    "    elif eq[1] == '-':\n",
    "        answer = a - b\n",
    "    elif eq[1] == '*':\n",
    "        answer = a * b\n",
    "    elif eq[1] == '/':\n",
    "        if b != 0:\n",
    "            answer = a / b\n",
    "        else:\n",
    "            print('На ноль делить нельзя')\n",
    "    else:\n",
    "        print('Неверный формат ввода')\n",
    "    print(f'{equation} = {answer}')\n",
    "    equation = input('Введите пример или 0 для выхода:\\n')\n",
    "print('До свидания')"
   ]
  },
  {
   "cell_type": "code",
   "execution_count": null,
   "id": "f23ae836",
   "metadata": {},
   "outputs": [],
   "source": []
  }
 ],
 "metadata": {
  "kernelspec": {
   "display_name": "Python 3",
   "language": "python",
   "name": "python3"
  },
  "language_info": {
   "codemirror_mode": {
    "name": "ipython",
    "version": 3
   },
   "file_extension": ".py",
   "mimetype": "text/x-python",
   "name": "python",
   "nbconvert_exporter": "python",
   "pygments_lexer": "ipython3",
   "version": "3.8.8"
  }
 },
 "nbformat": 4,
 "nbformat_minor": 5
}
