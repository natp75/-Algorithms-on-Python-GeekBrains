{
 "cells": [
  {
   "cell_type": "code",
   "execution_count": 3,
   "id": "cdd028bc",
   "metadata": {},
   "outputs": [
    {
     "name": "stdout",
     "output_type": "stream",
     "text": [
      "Введите целое число: 446\n",
      "В числе 446: 0 нечетных и 3 четных цифр\n"
     ]
    }
   ],
   "source": [
    "# 2. Посчитать четные и нечетные цифры введенного натурального числа.\n",
    "\n",
    "number = input('Введите целое число: ')\n",
    "n1 = 0\n",
    "n2 = 0\n",
    "for num in number:\n",
    "    if int(num) % 2 == 0:\n",
    "        n2 += 1\n",
    "    else:\n",
    "        n1 += 1\n",
    "print(f'В числе {number}: {n1} нечетных и {n2} четных цифр')"
   ]
  },
  {
   "cell_type": "code",
   "execution_count": null,
   "id": "305103e3",
   "metadata": {},
   "outputs": [],
   "source": []
  }
 ],
 "metadata": {
  "kernelspec": {
   "display_name": "Python 3",
   "language": "python",
   "name": "python3"
  },
  "language_info": {
   "codemirror_mode": {
    "name": "ipython",
    "version": 3
   },
   "file_extension": ".py",
   "mimetype": "text/x-python",
   "name": "python",
   "nbconvert_exporter": "python",
   "pygments_lexer": "ipython3",
   "version": "3.8.8"
  }
 },
 "nbformat": 4,
 "nbformat_minor": 5
}
