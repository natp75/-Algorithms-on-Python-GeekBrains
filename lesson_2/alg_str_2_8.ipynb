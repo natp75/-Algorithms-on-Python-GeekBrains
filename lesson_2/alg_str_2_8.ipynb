{
 "cells": [
  {
   "cell_type": "code",
   "execution_count": null,
   "id": "62d48bae",
   "metadata": {},
   "outputs": [],
   "source": [
    "# Посчитать, сколько раз встречается определенная цифра в введенной последовательности чисел.\n",
    "# Количество вводимых чисел и цифра, которую необходимо посчитать, задаются вводом с клавиатуры.\n",
    "print('Введите длину последовательности и число, которое хотите подсчитать: ')\n",
    "length = int(input('length = '))\n",
    "num = float(input('num = '))\n",
    "count = 0\n",
    "for i in range(length):\n",
    "    n = float(input(f'Введите {i+1}-е число: '))\n",
    "    if n == num:\n",
    "        count += 1\n",
    "print(f'Число {num} встречается в последовательности {count} раз')"
   ]
  }
 ],
 "metadata": {
  "kernelspec": {
   "display_name": "Python 3",
   "language": "python",
   "name": "python3"
  },
  "language_info": {
   "codemirror_mode": {
    "name": "ipython",
    "version": 3
   },
   "file_extension": ".py",
   "mimetype": "text/x-python",
   "name": "python",
   "nbconvert_exporter": "python",
   "pygments_lexer": "ipython3",
   "version": "3.8.8"
  }
 },
 "nbformat": 4,
 "nbformat_minor": 5
}
