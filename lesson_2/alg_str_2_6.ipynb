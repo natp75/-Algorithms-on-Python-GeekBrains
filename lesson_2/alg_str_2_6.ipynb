{
 "cells": [
  {
   "cell_type": "code",
   "execution_count": null,
   "id": "3b5e6c9c",
   "metadata": {},
   "outputs": [],
   "source": [
    "# В программе генерируется случайное целое число от 0 до 100.\n",
    "# Пользователь должен его отгадать не более чем за 10 попыток.\n",
    "# После каждой неудачной попытки должно сообщаться, больше или меньше загаданного введенное пользователем число.\n",
    "# Если за 10 попыток число не отгадано, то вывести его.\n",
    "\n",
    "import random\n",
    "\n",
    "number = random.randint(0, 101)\n",
    "for i in range(10):\n",
    "    num = int(input('Угадайте целое число от 0 до 100: '))\n",
    "    if num == number:\n",
    "        print('Поздравляем, вы угадали!')\n",
    "        break\n",
    "    elif num < number:\n",
    "        print('Ваше число меньше загаданного')\n",
    "    else:\n",
    "        print('Ваше число больше загаданного')\n",
    "print(f'Было загадано число {number}')"
   ]
  }
 ],
 "metadata": {
  "kernelspec": {
   "display_name": "Python 3",
   "language": "python",
   "name": "python3"
  },
  "language_info": {
   "codemirror_mode": {
    "name": "ipython",
    "version": 3
   },
   "file_extension": ".py",
   "mimetype": "text/x-python",
   "name": "python",
   "nbconvert_exporter": "python",
   "pygments_lexer": "ipython3",
   "version": "3.8.8"
  }
 },
 "nbformat": 4,
 "nbformat_minor": 5
}
