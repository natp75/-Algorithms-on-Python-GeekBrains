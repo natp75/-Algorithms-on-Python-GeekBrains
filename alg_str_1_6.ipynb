{
 "cells": [
  {
   "cell_type": "code",
   "execution_count": 1,
   "id": "d02a1ff5",
   "metadata": {},
   "outputs": [
    {
     "name": "stdout",
     "output_type": "stream",
     "text": [
      "Введите длины трех отрезков:\n",
      "a = 2\n",
      "b = 3\n",
      "c = 5\n",
      "Треугольник разносторонний\n"
     ]
    }
   ],
   "source": [
    "#По длинам трех отрезков, введенных пользователем, определить возможность существования треугольника, составленного из этих отрезков. Если такой треугольник существует, то определить,\n",
    "#является ли он разносторонним, равнобедренным или равносторонним.\n",
    "print('Введите длины трех отрезков:')\n",
    "a = float(input('a = '))\n",
    "b = float(input('b = '))\n",
    "c = float(input('c = '))\n",
    "\n",
    "if a + b >= c and a + c >= b and b + c >= a:\n",
    "    if a == b or b == c or c == a:\n",
    "        if a == b and a == c:\n",
    "            print('Треугольник равносторонний')\n",
    "        else:\n",
    "            print('Треугольник равнобедренный')\n",
    "    else:\n",
    "        print('Треугольник разносторонний')\n",
    "else:\n",
    "    print('Это не треугольник')"
   ]
  },
  {
   "cell_type": "code",
   "execution_count": null,
   "id": "d606f88e",
   "metadata": {},
   "outputs": [],
   "source": []
  }
 ],
 "metadata": {
  "kernelspec": {
   "display_name": "Python 3",
   "language": "python",
   "name": "python3"
  },
  "language_info": {
   "codemirror_mode": {
    "name": "ipython",
    "version": 3
   },
   "file_extension": ".py",
   "mimetype": "text/x-python",
   "name": "python",
   "nbconvert_exporter": "python",
   "pygments_lexer": "ipython3",
   "version": "3.8.8"
  }
 },
 "nbformat": 4,
 "nbformat_minor": 5
}
