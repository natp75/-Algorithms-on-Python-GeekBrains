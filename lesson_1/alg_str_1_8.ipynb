{
 "cells": [
  {
   "cell_type": "code",
   "execution_count": 1,
   "id": "02901d84",
   "metadata": {},
   "outputs": [
    {
     "name": "stdout",
     "output_type": "stream",
     "text": [
      "Ведите 3 разных числа:\n",
      "a = 2\n",
      "b = 4\n",
      "c = 6\n",
      "Число 4.0 - среднее\n"
     ]
    }
   ],
   "source": [
    "# Вводятся три разных числа. Найти, какое из них является средним (больше одного, но меньше другого).\n",
    "print('Ведите 3 разных числа:')\n",
    "a = float(input('a = '))\n",
    "b = float(input('b = '))\n",
    "c = float(input('c = '))\n",
    "\n",
    "mid = a + b + c - max(a, b, c) - min(a, b, c)\n",
    "\n",
    "print(f'Число {mid} - среднее')"
   ]
  },
  {
   "cell_type": "code",
   "execution_count": null,
   "id": "916e4a6f",
   "metadata": {},
   "outputs": [],
   "source": []
  }
 ],
 "metadata": {
  "kernelspec": {
   "display_name": "Python 3",
   "language": "python",
   "name": "python3"
  },
  "language_info": {
   "codemirror_mode": {
    "name": "ipython",
    "version": 3
   },
   "file_extension": ".py",
   "mimetype": "text/x-python",
   "name": "python",
   "nbconvert_exporter": "python",
   "pygments_lexer": "ipython3",
   "version": "3.8.8"
  }
 },
 "nbformat": 4,
 "nbformat_minor": 5
}
