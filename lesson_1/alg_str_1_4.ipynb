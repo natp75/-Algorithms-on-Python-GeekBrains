{
 "cells": [
  {
   "cell_type": "code",
   "execution_count": 1,
   "id": "5e1a5baa",
   "metadata": {},
   "outputs": [
    {
     "name": "stdout",
     "output_type": "stream",
     "text": [
      "Ведите две прописные буквы латинского алфавита:\n",
      "char1 = a\n",
      "char2 = c\n",
      "Буква \"a\" 33-я в алфавите\n",
      "Буква \"c\" 35-я в алфавите\n",
      "Между буквами 1 букв\n"
     ]
    }
   ],
   "source": [
    "#4. Пользователь вводит две буквы. Определить, на каких местах алфавита они стоят, и сколько между ними находится букв.\n",
    "print('Ведите две прописные буквы латинского алфавита:')\n",
    "char1 = input('char1 = ')\n",
    "char2 = input('char2 = ')\n",
    "\n",
    "pos_char1 = ord(char1) - 64\n",
    "pos_char2 = ord(char2) - 64\n",
    "distance = abs(pos_char1 - pos_char2) - 1\n",
    "print(f'Буква \"{char1}\" {pos_char1}-я в алфавите\\n'\n",
    "      f'Буква \"{char2}\" {pos_char2}-я в алфавите\\n'\n",
    "      f'Между буквами {distance} букв')"
   ]
  },
  {
   "cell_type": "code",
   "execution_count": null,
   "id": "8e51d64a",
   "metadata": {},
   "outputs": [],
   "source": []
  }
 ],
 "metadata": {
  "kernelspec": {
   "display_name": "Python 3",
   "language": "python",
   "name": "python3"
  },
  "language_info": {
   "codemirror_mode": {
    "name": "ipython",
    "version": 3
   },
   "file_extension": ".py",
   "mimetype": "text/x-python",
   "name": "python",
   "nbconvert_exporter": "python",
   "pygments_lexer": "ipython3",
   "version": "3.8.8"
  }
 },
 "nbformat": 4,
 "nbformat_minor": 5
}
