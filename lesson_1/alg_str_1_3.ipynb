{
 "cells": [
  {
   "cell_type": "code",
   "execution_count": 2,
   "id": "793fbcb6",
   "metadata": {},
   "outputs": [
    {
     "name": "stdout",
     "output_type": "stream",
     "text": [
      "Ведите границы для случайного целого числа:\n",
      "x1 = 3\n",
      "x2 = 4\n",
      "Ведите границы для случайного вещественного числа:\n",
      "y1 = 3\n",
      "y2 = 5\n",
      "Ведите границы для случайной буквы:\n",
      "char1 = a\n",
      "char2 = f\n",
      "Случайное целое число: 3\n",
      "Случайное вещественное число: 4.511635104383226\n",
      "Случайная буква: \"C\"\n"
     ]
    }
   ],
   "source": [
    "# Написать программу, которая генерирует в указанных пользователем границах:\n",
    "#a. случайное целое число,\n",
    "#b. случайное вещественное число,\n",
    "#c. случайный символ.\n",
    "#Для каждого из трех случаев пользователь задает свои границы диапазона. Например, если надо получить случайный символ\n",
    "#от 'a' до 'f', то вводятся эти символы. Программа должна вывести на экран любой символ алфавита от 'a' до 'f' включительно.\n",
    "\n",
    "import random\n",
    "\n",
    "print('Ведите границы для случайного целого числа:')\n",
    "x1 = int(input('x1 = '))\n",
    "x2 = int(input('x2 = '))\n",
    "print('Ведите границы для случайного вещественного числа:')\n",
    "y1 = float(input('y1 = '))\n",
    "y2 = float(input('y2 = '))\n",
    "print('Ведите границы для случайной буквы:')\n",
    "ch1 = input('char1 = ').upper()\n",
    "ch2 = input('char2 = ').upper()\n",
    "\n",
    "r_int = random.randint(x1, x2)\n",
    "r_float = random.uniform(y1, y2)\n",
    "r_char = chr(random.randint(ord(ch1), ord(ch2)))\n",
    "\n",
    "print(f'Случайное целое число: {r_int}\\n'\n",
    "      f'Случайное вещественное число: {r_float}\\n'\n",
    "      f'Случайная буква: \"{r_char}\"')\n",
    "\n",
    "\n"
   ]
  },
  {
   "cell_type": "code",
   "execution_count": null,
   "id": "f52eaa6f",
   "metadata": {},
   "outputs": [],
   "source": []
  },
  {
   "cell_type": "code",
   "execution_count": null,
   "id": "ed6998f2",
   "metadata": {},
   "outputs": [],
   "source": []
  }
 ],
 "metadata": {
  "kernelspec": {
   "display_name": "Python 3",
   "language": "python",
   "name": "python3"
  },
  "language_info": {
   "codemirror_mode": {
    "name": "ipython",
    "version": 3
   },
   "file_extension": ".py",
   "mimetype": "text/x-python",
   "name": "python",
   "nbconvert_exporter": "python",
   "pygments_lexer": "ipython3",
   "version": "3.8.8"
  }
 },
 "nbformat": 4,
 "nbformat_minor": 5
}
