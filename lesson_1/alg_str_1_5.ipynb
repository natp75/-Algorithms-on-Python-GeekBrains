{
 "cells": [
  {
   "cell_type": "code",
   "execution_count": 1,
   "id": "617dab1e",
   "metadata": {},
   "outputs": [
    {
     "name": "stdout",
     "output_type": "stream",
     "text": [
      "Введите номер буквы в алфавите от 1 до 26:\n",
      "3\n",
      "Это буква \"C\"\n"
     ]
    }
   ],
   "source": [
    "#5. Пользователь вводит номер буквы в алфавите. Определить, какая это буква.\n",
    "print('Введите номер буквы в алфавите от 1 до 26:')\n",
    "num = int(input())\n",
    "char = chr(num + 64)\n",
    "print(f'Это буква \"{char}\"')"
   ]
  },
  {
   "cell_type": "code",
   "execution_count": null,
   "id": "5949ff5a",
   "metadata": {},
   "outputs": [],
   "source": []
  }
 ],
 "metadata": {
  "kernelspec": {
   "display_name": "Python 3",
   "language": "python",
   "name": "python3"
  },
  "language_info": {
   "codemirror_mode": {
    "name": "ipython",
    "version": 3
   },
   "file_extension": ".py",
   "mimetype": "text/x-python",
   "name": "python",
   "nbconvert_exporter": "python",
   "pygments_lexer": "ipython3",
   "version": "3.8.8"
  }
 },
 "nbformat": 4,
 "nbformat_minor": 5
}
