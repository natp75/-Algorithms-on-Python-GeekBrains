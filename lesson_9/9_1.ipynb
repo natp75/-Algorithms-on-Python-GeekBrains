{
 "cells": [
  {
   "cell_type": "code",
   "execution_count": null,
   "id": "d11c9e6e",
   "metadata": {},
   "outputs": [],
   "source": [
    "# 1. Определение количества различных подстрок с использованием хеш-функции.\n",
    "# Пусть дана строка S длиной N, состоящая только из маленьких латинских букв.\n",
    "# Требуется найти количество различных подстрок в этой строке.\n",
    "\n",
    "\n",
    "def sub_str_count(s):\n",
    "    subs = {}\n",
    "    for j in range(len(s)):\n",
    "        acc = ''\n",
    "        for i, char in enumerate(s):\n",
    "            if i + j < len(s):\n",
    "                acc += s[i + j]\n",
    "                subs.update({acc: subs[acc] + 1 if acc in subs else 1})\n",
    "    return len(subs), subs\n",
    "\n",
    "\n",
    "s = input('Введите строку: ')\n",
    "print(f'Количество различных подстрок {sub_str_count(s)[0]}')\n",
    "print(f'Частота {sub_str_count(s)[1]}')"
   ]
  }
 ],
 "metadata": {
  "kernelspec": {
   "display_name": "Python 3",
   "language": "python",
   "name": "python3"
  },
  "language_info": {
   "codemirror_mode": {
    "name": "ipython",
    "version": 3
   },
   "file_extension": ".py",
   "mimetype": "text/x-python",
   "name": "python",
   "nbconvert_exporter": "python",
   "pygments_lexer": "ipython3",
   "version": "3.8.8"
  }
 },
 "nbformat": 4,
 "nbformat_minor": 5
}
