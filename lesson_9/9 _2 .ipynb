{
 "cells": [
  {
   "cell_type": "code",
   "execution_count": null,
   "id": "b07d88fc",
   "metadata": {},
   "outputs": [],
   "source": [
    "#Закодируйте любую строку  по алгоритму Хаффмана.\n",
    "\n",
    "\n",
    "def frequency(s):\n",
    "    chars = {}\n",
    "    for char in s:\n",
    "        chars.update({char: chars[char] + 1 if char in chars else 1})\n",
    "    return chars\n",
    "\n",
    "\n",
    "print(f'Частота букв{frequency(s)}')"
   ]
  }
 ],
 "metadata": {
  "kernelspec": {
   "display_name": "Python 3",
   "language": "python",
   "name": "python3"
  },
  "language_info": {
   "codemirror_mode": {
    "name": "ipython",
    "version": 3
   },
   "file_extension": ".py",
   "mimetype": "text/x-python",
   "name": "python",
   "nbconvert_exporter": "python",
   "pygments_lexer": "ipython3",
   "version": "3.8.8"
  }
 },
 "nbformat": 4,
 "nbformat_minor": 5
}
