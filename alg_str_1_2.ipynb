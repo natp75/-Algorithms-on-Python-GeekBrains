{
 "cells": [
  {
   "cell_type": "code",
   "execution_count": 1,
   "id": "06405232",
   "metadata": {},
   "outputs": [
    {
     "name": "stdout",
     "output_type": "stream",
     "text": [
      "Ведите координаты 2х точек:\n",
      "x1 = 2\n",
      "y1 = 2\n",
      "x2 = 3\n",
      "y2 = 3\n",
      "Уравнение прямой:\n",
      "-1.0x + 1.0y + 0.0 = 0\n"
     ]
    }
   ],
   "source": [
    "#По введенным пользователем координатам двух точек вывести уравнение прямой вида y = kx + b, проходящей через эти точки.\n",
    "print('Ведите координаты 2х точек:')\n",
    "x1 = float(input('x1 = '))\n",
    "y1 = float(input('y1 = '))\n",
    "x2 = float(input('x2 = '))\n",
    "y2 = float(input('y2 = '))\n",
    "\n",
    "a = y1 - y2\n",
    "b = x2 - x1\n",
    "c = x1 * y2 - x2 * y1\n",
    "if a == 0 and b == 0:\n",
    "    print('Точки совпадают')\n",
    "elif a == 0:\n",
    "    print(f'Уравнение прямой:\\n'\n",
    "          f'{b}y + {c} = 0')\n",
    "elif b == 0:\n",
    "    print(f'Уравнение прямой:\\n'\n",
    "          f'{a}x + {c} = 0')\n",
    "else:\n",
    "    print(f'Уравнение прямой:\\n'\n",
    "          f'{a}x + {b}y + {c} = 0')"
   ]
  },
  {
   "cell_type": "code",
   "execution_count": null,
   "id": "861aa770",
   "metadata": {},
   "outputs": [],
   "source": []
  }
 ],
 "metadata": {
  "kernelspec": {
   "display_name": "Python 3",
   "language": "python",
   "name": "python3"
  },
  "language_info": {
   "codemirror_mode": {
    "name": "ipython",
    "version": 3
   },
   "file_extension": ".py",
   "mimetype": "text/x-python",
   "name": "python",
   "nbconvert_exporter": "python",
   "pygments_lexer": "ipython3",
   "version": "3.8.8"
  }
 },
 "nbformat": 4,
 "nbformat_minor": 5
}
