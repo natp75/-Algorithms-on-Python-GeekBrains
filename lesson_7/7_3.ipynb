{
 "cells": [
  {
   "cell_type": "code",
   "execution_count": null,
   "id": "4a1cdeab",
   "metadata": {},
   "outputs": [],
   "source": [
    "# 3. Массив размером 2m + 1, где m – натуральное число, заполнен случайным образом. Найти в массиве медиану.\n",
    "import random\n",
    "\n",
    "\n",
    "def median(array, k):\n",
    "    if len(array) == 1:\n",
    "        return array[0]\n",
    "\n",
    "    pivot = random.choice(array)\n",
    "\n",
    "    left_el = [el for el in array if el < pivot]\n",
    "    right_el = [el for el in array if el > pivot]\n",
    "    pivots = [el for el in array if el == pivot]\n",
    "\n",
    "    if k < len(left_el):\n",
    "        return median(left_el, k)\n",
    "    elif k < len(left_el) + len(pivots):\n",
    "        return pivots[0]\n",
    "    else:\n",
    "        return median(right_el, k - len(left_el) - len(pivots))\n",
    "\n",
    "\n",
    "M = 5\n",
    "lst = [random.randint(0, 20) for _ in range(2 * M + 1)]\n",
    "print(f'Исходный список:\\n{lst}')\n",
    "print(f'Медианой списка является:\\n{median(lst, len(lst) / 2)}')\n",
    "lst.sort()\n",
    "print(f'Проверка!\\nСписок после сортировки:\\n{lst}')\n",
    "print(f'Медианой списка является:\\n{lst[len(lst) // 2]}')"
   ]
  }
 ],
 "metadata": {
  "kernelspec": {
   "display_name": "Python 3",
   "language": "python",
   "name": "python3"
  },
  "language_info": {
   "codemirror_mode": {
    "name": "ipython",
    "version": 3
   },
   "file_extension": ".py",
   "mimetype": "text/x-python",
   "name": "python",
   "nbconvert_exporter": "python",
   "pygments_lexer": "ipython3",
   "version": "3.8.8"
  }
 },
 "nbformat": 4,
 "nbformat_minor": 5
}
