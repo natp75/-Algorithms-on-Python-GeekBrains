{
 "cells": [
  {
   "cell_type": "code",
   "execution_count": null,
   "id": "07716b7e",
   "metadata": {},
   "outputs": [],
   "source": [
    "# 2. Отсортируйте по возрастанию методом слияния одномерный вещественный массив, заданный случайными числами\n",
    "# на промежутке [0; 50). Выведите на экран исходный и отсортированный массивы.\n",
    "import random\n",
    "\n",
    "\n",
    "def merge_sort(array):\n",
    "    def merge(a, b):\n",
    "        i = 0\n",
    "        j = 0\n",
    "        length_a = len(a)\n",
    "        length_b = len(b)\n",
    "        result = []\n",
    "        while i != length_a and j != length_b:\n",
    "            if a[i] < b[j]:\n",
    "                result.append(a[i])\n",
    "                i += 1\n",
    "            elif a[i] > b[j]:\n",
    "                result.append(b[j])\n",
    "                j += 1\n",
    "            else:\n",
    "                result.append(a[i])\n",
    "                result.append(b[j])\n",
    "                i += 1\n",
    "                j += 1\n",
    "        if i < length_a:\n",
    "            result.extend(a[i:])\n",
    "        if j < length_b:\n",
    "            result.extend(b[j:])\n",
    "        return result\n",
    "\n",
    "    if len(array) < 2:\n",
    "        return array\n",
    "    # if len(array) == 2:\n",
    "    #     if array[0] > array[1]:\n",
    "    #         array[0], array[1] = array[1], array[0]\n",
    "    #     return array\n",
    "\n",
    "    idx = len(array) // 2\n",
    "    return merge(merge_sort(array[:idx]), merge_sort(array[idx:]))\n",
    "\n",
    "\n",
    "lst = [random.uniform(0, 50) for _ in range(10)]\n",
    "print(f'Список до сортировки:\\n{lst}')\n",
    "new_list = merge_sort(lst)\n",
    "print(f'Список после сортировки:\\n{lst}')"
   ]
  }
 ],
 "metadata": {
  "kernelspec": {
   "display_name": "Python 3",
   "language": "python",
   "name": "python3"
  },
  "language_info": {
   "codemirror_mode": {
    "name": "ipython",
    "version": 3
   },
   "file_extension": ".py",
   "mimetype": "text/x-python",
   "name": "python",
   "nbconvert_exporter": "python",
   "pygments_lexer": "ipython3",
   "version": "3.8.8"
  }
 },
 "nbformat": 4,
 "nbformat_minor": 5
}
