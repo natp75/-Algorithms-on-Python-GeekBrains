{
 "cells": [
  {
   "cell_type": "code",
   "execution_count": null,
   "id": "76e8399e",
   "metadata": {},
   "outputs": [],
   "source": [
    "# 1. Отсортировать по убыванию методом «пузырька» одномерный целочисленный массив, заданный случайными числами на\n",
    "# промежутке [-100; 100). Вывести на экран исходный и отсортированный массивы.\n",
    "import random\n",
    "\n",
    "\n",
    "def buble_sort(array, reverse=False):\n",
    "    if reverse:\n",
    "        left = 1\n",
    "        right = 0\n",
    "    else:\n",
    "        left = 0\n",
    "        right = 1\n",
    "    n = 1\n",
    "    length = len(array)\n",
    "    while n < length:\n",
    "        count = True\n",
    "        for i in range(n - 1, length - n):\n",
    "            if array[i + left] > array[i + right]:\n",
    "                array[i], array[i + 1] = array[i + 1], array[i]\n",
    "                count = False\n",
    "        if count:\n",
    "            break\n",
    "        for j in range(length - n, n - 1, -1):\n",
    "            if array[j - left] < array[j - right]:\n",
    "                array[j], array[j - 1] = array[j - 1], array[j]\n",
    "        n += 1\n",
    "\n",
    "\n",
    "lst = [random.randint(-100, 99) for _ in range(10)]\n",
    "random.shuffle(lst)\n",
    "print(f'Список до сортировки:\\n{lst}')\n",
    "buble_sort(lst, reverse=True)\n",
    "print(f'Список после сортировки:\\n{lst}')"
   ]
  }
 ],
 "metadata": {
  "kernelspec": {
   "display_name": "Python 3",
   "language": "python",
   "name": "python3"
  },
  "language_info": {
   "codemirror_mode": {
    "name": "ipython",
    "version": 3
   },
   "file_extension": ".py",
   "mimetype": "text/x-python",
   "name": "python",
   "nbconvert_exporter": "python",
   "pygments_lexer": "ipython3",
   "version": "3.8.8"
  }
 },
 "nbformat": 4,
 "nbformat_minor": 5
}
