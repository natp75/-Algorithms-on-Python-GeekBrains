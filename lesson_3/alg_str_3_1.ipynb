{
 "cells": [
  {
   "cell_type": "code",
   "execution_count": 1,
   "id": "21388186",
   "metadata": {},
   "outputs": [
    {
     "name": "stdout",
     "output_type": "stream",
     "text": [
      "2 кратны 49 чисел\n",
      "3 кратны 33 чисел\n",
      "4 кратны 24 чисел\n",
      "5 кратны 19 чисел\n",
      "6 кратны 16 чисел\n",
      "7 кратны 14 чисел\n",
      "8 кратны 12 чисел\n",
      "9 кратны 11 чисел\n"
     ]
    }
   ],
   "source": [
    "# В диапазоне натуральных чисел от 2 до 99 определить, сколько из них кратны любому из чисел в диапазоне от 2 до 9.\n",
    "\n",
    "\n",
    "div_dict = dict.fromkeys(range(2, 10), 0)\n",
    "for num in range(2, 100):\n",
    "    for i in range(2, 10):\n",
    "        if num % i == 0:\n",
    "            div_dict[i] += 1\n",
    "\n",
    "for key in div_dict:\n",
    "    print(f'{key} кратны {div_dict[key]} чисел')"
   ]
  },
  {
   "cell_type": "code",
   "execution_count": null,
   "id": "f887a4c2",
   "metadata": {},
   "outputs": [],
   "source": []
  }
 ],
 "metadata": {
  "kernelspec": {
   "display_name": "Python 3",
   "language": "python",
   "name": "python3"
  },
  "language_info": {
   "codemirror_mode": {
    "name": "ipython",
    "version": 3
   },
   "file_extension": ".py",
   "mimetype": "text/x-python",
   "name": "python",
   "nbconvert_exporter": "python",
   "pygments_lexer": "ipython3",
   "version": "3.8.8"
  }
 },
 "nbformat": 4,
 "nbformat_minor": 5
}
