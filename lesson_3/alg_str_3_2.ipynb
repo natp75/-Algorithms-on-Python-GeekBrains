{
 "cells": [
  {
   "cell_type": "code",
   "execution_count": null,
   "id": "ecca158b",
   "metadata": {},
   "outputs": [],
   "source": [
    "# Во втором массиве сохранить индексы четных элементов первого массива.\n",
    "# Например, если дан массив со значениями 8, 3, 15, 6, 4, 2, то во второй массив\n",
    "# надо заполнить значениями 0, 3, 4, 5 (индексация начинается с нуля),\n",
    "# т.к. именно в этих позициях первого массива стоят четные числа.\n",
    "import random\n",
    "\n",
    "first_list = [random.randint(0, 100) for _ in range(10)]\n",
    "second_list = [i for i, item in enumerate(first_list) if item % 2 == 0]\n",
    "\n",
    "print(f'Для массива: \\n{first_list}\\nИндексы четных элементов: \\n{second_list}')"
   ]
  }
 ],
 "metadata": {
  "kernelspec": {
   "display_name": "Python 3",
   "language": "python",
   "name": "python3"
  },
  "language_info": {
   "codemirror_mode": {
    "name": "ipython",
    "version": 3
   },
   "file_extension": ".py",
   "mimetype": "text/x-python",
   "name": "python",
   "nbconvert_exporter": "python",
   "pygments_lexer": "ipython3",
   "version": "3.8.8"
  }
 },
 "nbformat": 4,
 "nbformat_minor": 5
}
