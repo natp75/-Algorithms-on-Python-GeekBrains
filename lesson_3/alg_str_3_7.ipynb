{
 "cells": [
  {
   "cell_type": "code",
   "execution_count": 1,
   "id": "b68ca4e4",
   "metadata": {},
   "outputs": [
    {
     "name": "stdout",
     "output_type": "stream",
     "text": [
      "В массиве: \n",
      "[73, 59, 59, 29, 46, 20, 100, 96, 51, 64] \n",
      "минимальные элементы: 20 и 29\n"
     ]
    }
   ],
   "source": [
    "# В одномерном массиве целых чисел определить два наименьших элемента.\n",
    "# Они могут быть как равны между собой (оба являться минимальными), так и различаться.\n",
    "import random\n",
    "\n",
    "num_list = [random.randint(1, 100) for _ in range(10)]\n",
    "min_el = num_list[1]\n",
    "pre_min = num_list[0]\n",
    "\n",
    "for num in num_list:\n",
    "    if num <= min_el:\n",
    "        pre_min = min_el\n",
    "        min_el = num\n",
    "    elif num <= pre_min:  # условие обеспечивает работу программы, если минимальный элемент находится вначале\n",
    "        pre_min = num\n",
    "\n",
    "print(f'В массиве: \\n{num_list} \\nминимальные элементы: {min_el} и {pre_min}')"
   ]
  },
  {
   "cell_type": "code",
   "execution_count": null,
   "id": "1b271295",
   "metadata": {},
   "outputs": [],
   "source": []
  }
 ],
 "metadata": {
  "kernelspec": {
   "display_name": "Python 3",
   "language": "python",
   "name": "python3"
  },
  "language_info": {
   "codemirror_mode": {
    "name": "ipython",
    "version": 3
   },
   "file_extension": ".py",
   "mimetype": "text/x-python",
   "name": "python",
   "nbconvert_exporter": "python",
   "pygments_lexer": "ipython3",
   "version": "3.8.8"
  }
 },
 "nbformat": 4,
 "nbformat_minor": 5
}
