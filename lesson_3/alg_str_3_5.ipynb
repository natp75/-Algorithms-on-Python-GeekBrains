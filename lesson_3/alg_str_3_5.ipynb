{
 "cells": [
  {
   "cell_type": "code",
   "execution_count": null,
   "id": "dc5e7643",
   "metadata": {},
   "outputs": [],
   "source": [
    "# В массиве найти максимальный отрицательный элемент.\n",
    "# Вывести на экран его значение и позицию в массиве.\n",
    "import random\n",
    "\n",
    "num_list = [random.randint(-10, 10) for _ in range(10)]\n",
    "min_el = -float('inf')\n",
    "\n",
    "for i, item in enumerate(num_list):\n",
    "    if min_el < item < 0:\n",
    "        min_el = item\n",
    "        min_idx = i\n",
    "\n",
    "print(f'В массиве: \\n{num_list} \\nминимальный отрицательный элемент = {min_el} \\nего индекс = {min_idx}')"
   ]
  }
 ],
 "metadata": {
  "kernelspec": {
   "display_name": "Python 3",
   "language": "python",
   "name": "python3"
  },
  "language_info": {
   "codemirror_mode": {
    "name": "ipython",
    "version": 3
   },
   "file_extension": ".py",
   "mimetype": "text/x-python",
   "name": "python",
   "nbconvert_exporter": "python",
   "pygments_lexer": "ipython3",
   "version": "3.8.8"
  }
 },
 "nbformat": 4,
 "nbformat_minor": 5
}
