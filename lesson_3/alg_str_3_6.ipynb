{
 "cells": [
  {
   "cell_type": "code",
   "execution_count": 1,
   "id": "16e8d95e",
   "metadata": {},
   "outputs": [
    {
     "name": "stdout",
     "output_type": "stream",
     "text": [
      "3 5 1 4 7 6 2 9 5 3\n",
      "Минимальный элемент = 1(индекс 2)\n",
      "Максимальный элементам = 9 (индекс 7)\n",
      "Элементы между минимальным и максимальным: [4, 7, 6, 2]\n",
      "Сумма элементов, находящихся между минимальным и максимальным элементами = 19\n"
     ]
    }
   ],
   "source": [
    "# В одномерном массиве найти сумму элементов, находящихся между минимальным и максимальным элементами.\n",
    "# Сами минимальный и максимальный элементы в сумму не включать.\n",
    "import random\n",
    "\n",
    "num_list = [random.randint(0, 10) for _ in range(10)]\n",
    "print(*num_list)\n",
    "min_el = num_list[0]\n",
    "max_el = num_list[1]\n",
    "\n",
    "for i, item in enumerate(num_list):\n",
    "    if item <= min_el:\n",
    "        min_el = item\n",
    "        min_idx = i\n",
    "    if item >= max_el:\n",
    "        max_el = item\n",
    "        max_idx = i\n",
    "\n",
    "print(f'Минимальный элемент = {min_el}(индекс {min_idx})\\nМаксимальный элементам = {max_el} (индекс {max_idx})')\n",
    "if max_idx < min_idx:                             # Меняем индексы местами, если максимальный элемент встречаеся раньше\n",
    "    max_idx, min_idx = min_idx, max_idx\n",
    "\n",
    "print(f'Элементы между минимальным и максимальным: {num_list[min_idx + 1:max_idx]}')\n",
    "\n",
    "summa = 0\n",
    "for i in range(min_idx + 1, max_idx):\n",
    "    summa += num_list[i]\n",
    "\n",
    "print(f'Сумма элементов, находящихся между минимальным и максимальным элементами = {summa}')"
   ]
  },
  {
   "cell_type": "code",
   "execution_count": null,
   "id": "0c7d43a4",
   "metadata": {},
   "outputs": [],
   "source": []
  }
 ],
 "metadata": {
  "kernelspec": {
   "display_name": "Python 3",
   "language": "python",
   "name": "python3"
  },
  "language_info": {
   "codemirror_mode": {
    "name": "ipython",
    "version": 3
   },
   "file_extension": ".py",
   "mimetype": "text/x-python",
   "name": "python",
   "nbconvert_exporter": "python",
   "pygments_lexer": "ipython3",
   "version": "3.8.8"
  }
 },
 "nbformat": 4,
 "nbformat_minor": 5
}
