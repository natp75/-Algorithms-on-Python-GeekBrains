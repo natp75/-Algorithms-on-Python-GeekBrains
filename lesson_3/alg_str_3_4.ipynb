{
 "cells": [
  {
   "cell_type": "code",
   "execution_count": null,
   "id": "16242be6",
   "metadata": {},
   "outputs": [],
   "source": [
    "# Определить, какое число в массиве встречается чаще всего.\n",
    "import random\n",
    "\n",
    "num_list = [random.randint(1, 5) for _ in range(10)]\n",
    "d = dict.fromkeys(num_list, 0)          # Cоздаем словарь, ключами которого являются уникальные элементы списка\n",
    "\n",
    "for num in num_list:\n",
    "    d[num] += 1\n",
    "\n",
    "max_num = 0\n",
    "for key in d:\n",
    "    if d[key] > max_num:\n",
    "        max_key = key\n",
    "        max_num = d[key]\n",
    "\n",
    "print(f'В списке \\n{num_list} \\nчаще всего встречается число: {max_key} ({max_num} раз)')"
   ]
  }
 ],
 "metadata": {
  "kernelspec": {
   "display_name": "Python 3",
   "language": "python",
   "name": "python3"
  },
  "language_info": {
   "codemirror_mode": {
    "name": "ipython",
    "version": 3
   },
   "file_extension": ".py",
   "mimetype": "text/x-python",
   "name": "python",
   "nbconvert_exporter": "python",
   "pygments_lexer": "ipython3",
   "version": "3.8.8"
  }
 },
 "nbformat": 4,
 "nbformat_minor": 5
}
