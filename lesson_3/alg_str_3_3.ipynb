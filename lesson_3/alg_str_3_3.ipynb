{
 "cells": [
  {
   "cell_type": "code",
   "execution_count": null,
   "id": "24820dca",
   "metadata": {},
   "outputs": [],
   "source": [
    "# В массиве случайных целых чисел поменять местами минимальный и максимальный элементы.\n",
    "import random\n",
    "\n",
    "num_list = [random.randint(0, 100) for _ in range(10)]\n",
    "print(*num_list)\n",
    "min_el = num_list[0]\n",
    "max_el = num_list[1]\n",
    "\n",
    "for i, item in enumerate(num_list):\n",
    "    if item <= min_el:\n",
    "        min_el = item\n",
    "        min_idx = i\n",
    "    if item >= max_el:\n",
    "        max_el = item\n",
    "        max_idx = i\n",
    "\n",
    "num_list[min_idx] = max_el         # Присваивание нового значения для элемента\n",
    "num_list[max_idx] = min_el         # списка быстро происходит или как с insert?\n",
    "\n",
    "print('Переставим максимальный и минимальный элементы:\\n', *num_list)"
   ]
  }
 ],
 "metadata": {
  "kernelspec": {
   "display_name": "Python 3",
   "language": "python",
   "name": "python3"
  },
  "language_info": {
   "codemirror_mode": {
    "name": "ipython",
    "version": 3
   },
   "file_extension": ".py",
   "mimetype": "text/x-python",
   "name": "python",
   "nbconvert_exporter": "python",
   "pygments_lexer": "ipython3",
   "version": "3.8.8"
  }
 },
 "nbformat": 4,
 "nbformat_minor": 5
}
