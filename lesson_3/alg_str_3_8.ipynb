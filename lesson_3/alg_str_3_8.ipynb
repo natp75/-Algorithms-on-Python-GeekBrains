{
 "cells": [
  {
   "cell_type": "code",
   "execution_count": null,
   "id": "340ff2ae",
   "metadata": {},
   "outputs": [],
   "source": [
    "# Матрица 5x4 заполняется вводом с клавиатуры, кроме последних элементов строк.\n",
    "# Программа должна вычислять сумму введенных элементов каждой строки и записывать ее в ее последнюю ячейку.\n",
    "# В конце следует вывести полученную матрицу.\n",
    "\n",
    "matrix = [[] for _ in range(4)]\n",
    "\n",
    "for line in matrix:\n",
    "    line_sum = 0\n",
    "    for i in range(4):\n",
    "        num = int(input('Введите значение: '))\n",
    "        line.append(num)\n",
    "        line_sum += num\n",
    "    line.append(line_sum)\n",
    "\n",
    "for line in matrix:\n",
    "    for num in line:\n",
    "        print(f'\\t{num:>5}', end='')\n",
    "    print()"
   ]
  },
  {
   "cell_type": "code",
   "execution_count": null,
   "id": "da881bba",
   "metadata": {},
   "outputs": [],
   "source": []
  }
 ],
 "metadata": {
  "kernelspec": {
   "display_name": "Python 3",
   "language": "python",
   "name": "python3"
  },
  "language_info": {
   "codemirror_mode": {
    "name": "ipython",
    "version": 3
   },
   "file_extension": ".py",
   "mimetype": "text/x-python",
   "name": "python",
   "nbconvert_exporter": "python",
   "pygments_lexer": "ipython3",
   "version": "3.8.8"
  }
 },
 "nbformat": 4,
 "nbformat_minor": 5
}
