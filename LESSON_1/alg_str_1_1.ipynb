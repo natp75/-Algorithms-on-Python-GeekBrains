{
 "cells": [
  {
   "cell_type": "code",
   "execution_count": 17,
   "id": "d62bf442",
   "metadata": {},
   "outputs": [
    {
     "name": "stdout",
     "output_type": "stream",
     "text": [
      "Выполним логические побитовые операции над числами 5 и 6:\n",
      "5 & 6=4\n",
      "5 ^ 6=4\n",
      "5 | 6=4\n",
      "побитовый сдвиг 5 влево на два знака=20\n",
      "побитовый сдвиг 5 вправо на два знака=1\n"
     ]
    }
   ],
   "source": [
    "# 1. Выполнить логические побитовые операции «И», «ИЛИ» и др. над числами 5 и 6. Выполнить над числом 5 побитовый \n",
    "#сдвиг вправо и влево на два знака.\n",
    "bit_and=5&6\n",
    "bit_xor=5^6\n",
    "bit_or=5|6\n",
    "5<<2\n",
    "5>>2\n",
    "print(f'Выполним логические побитовые операции над числами 5 и 6:\\n'\n",
    "    f'5 & 6={bit_and}\\n'\n",
    "    f'5 ^ 6={bit_and}\\n'\n",
    "    f'5 | 6={bit_and}\\n'\n",
    "    f'побитовый сдвиг 5 влево на два знака={5<<2}\\n'\n",
    "    f'побитовый сдвиг 5 вправо на два знака={5>>2}')"
   ]
  },
  {
   "cell_type": "code",
   "execution_count": null,
   "id": "555992c2",
   "metadata": {},
   "outputs": [],
   "source": []
  }
 ],
 "metadata": {
  "kernelspec": {
   "display_name": "Python 3",
   "language": "python",
   "name": "python3"
  },
  "language_info": {
   "codemirror_mode": {
    "name": "ipython",
    "version": 3
   },
   "file_extension": ".py",
   "mimetype": "text/x-python",
   "name": "python",
   "nbconvert_exporter": "python",
   "pygments_lexer": "ipython3",
   "version": "3.8.8"
  }
 },
 "nbformat": 4,
 "nbformat_minor": 5
}
