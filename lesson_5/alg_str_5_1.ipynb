{
 "cells": [
  {
   "cell_type": "code",
   "execution_count": null,
   "id": "11529265",
   "metadata": {},
   "outputs": [],
   "source": [
    "# Пользователь вводит данные о количестве предприятий, их наименования и прибыль за 4 квартала для каждого предприятия.\n",
    "# Программа должна определить среднюю прибыль (за год для всех предприятий) и вывести наименования предприятий,\n",
    "# чья прибыль выше среднего и отдельно вывести наименования предприятий, чья прибыль ниже среднего.\n",
    "import collections\n",
    "\n",
    "while True:\n",
    "    try:\n",
    "        n = int(input('Введите количество компаний: '))\n",
    "    except ValueError:\n",
    "        print('Вы ввели недопустимое значение')\n",
    "        continue\n",
    "    break\n",
    "\n",
    "companies = collections.defaultdict()\n",
    "prof_c = collections.deque()\n",
    "unprof_c = collections.deque()\n",
    "all_profit = 0\n",
    "QUARTER = 4\n",
    "\n",
    "for i in range(n):\n",
    "    name = input(f'\\nВведите название {i+1}й компании: ')\n",
    "    profit = 0\n",
    "    q = 1\n",
    "    while q <= QUARTER:\n",
    "        try:\n",
    "            profit += float(input(f'Введите прибыль за {q}й квартал: '))\n",
    "        except ValueError:\n",
    "            print('Вы ввели недопустимое значение')\n",
    "            continue\n",
    "        q += 1\n",
    "    companies[name] = profit\n",
    "    all_profit += profit\n",
    "\n",
    "mid_profit = all_profit / n\n",
    "for i, item in companies.items():\n",
    "    if item >= mid_profit:\n",
    "        prof_c.append(i)\n",
    "    else:\n",
    "        unprof_c.append(i)\n",
    "print(f'Средняя прибыль для всех компаний составила: {mid_profit}')\n",
    "print(f'Прибыль выше среднего у {len(prof_c)} компаний:')\n",
    "for name in prof_c:\n",
    "    print(name)\n",
    "print(f'Прибыль ниже среднего у {len(unprof_c)} компаний:')\n",
    "for name in unprof_c:\n",
    "    print(name)"
   ]
  },
  {
   "cell_type": "code",
   "execution_count": null,
   "id": "b5ef981f",
   "metadata": {},
   "outputs": [],
   "source": []
  }
 ],
 "metadata": {
  "kernelspec": {
   "display_name": "Python 3",
   "language": "python",
   "name": "python3"
  },
  "language_info": {
   "codemirror_mode": {
    "name": "ipython",
    "version": 3
   },
   "file_extension": ".py",
   "mimetype": "text/x-python",
   "name": "python",
   "nbconvert_exporter": "python",
   "pygments_lexer": "ipython3",
   "version": "3.8.8"
  }
 },
 "nbformat": 4,
 "nbformat_minor": 5
}
