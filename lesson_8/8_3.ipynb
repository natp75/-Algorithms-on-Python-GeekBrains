{
 "cells": [
  {
   "cell_type": "code",
   "execution_count": null,
   "id": "0242faeb",
   "metadata": {},
   "outputs": [],
   "source": [
    "#Написать программу, которая обходит не взвешенный ориентированный граф без петель, в котором все вершины связаны, по алгоритму поиска в глубину (Depth-First Search).\n",
    "# Примечания:\n",
    "# a. граф должен храниться в виде списка смежности;\n",
    "# b. генерация графа выполняется в отдельной функции, которая принимает на вход число вершин.\n",
    "\n",
    "import random\n",
    "\n",
    "def graph(n):\n",
    "    g = [[]] * n\n",
    "    v_list = [i for i in range(n)]\n",
    "\n",
    "    for i in range(n):\n",
    "        count = 0\n",
    "        while count == 0:\n",
    "            presence = [random.randint(0,1) for i in range(n-1)]\n",
    "            random.shuffle(presence)\n",
    "            new_list = v_list.copy()\n",
    "            new_list.remove(i)\n",
    "            for index, element in enumerate(new_list):\n",
    "                if presence[index] == 1:\n",
    "                    g[i] = g[i] + [element]\n",
    "                    count += 1\n",
    "    return g\n",
    "\n",
    "def doDFS(g):\n",
    "    \n",
    "#     возвращает стостояние прохода по вершинам True или False\n",
    "#     изначально всем вершинам присваивается False\n",
    "   \n",
    "    n = len(g)\n",
    "    is_visited = [False for i in range(n)]\n",
    "    print(f\"Начальное состояние прохода по вершинам: {is_visited}\")\n",
    "\n",
    "    def dfs(node):\n",
    "        is_visited[node] = True\n",
    "        for vertex in g[node]:\n",
    "            if not is_visited[vertex]:\n",
    "                dfs(vertex)\n",
    "\n",
    "    for i in range(n):\n",
    "        if not is_visited[i]:\n",
    "            dfs(i)\n",
    "\n",
    "    return is_visited\n",
    "\n",
    "n = int(input(\"Сколько вершин? \"))\n",
    "g = graph(n)\n",
    "print(\"Граф:\")\n",
    "for i in range(n):\n",
    "    print(g[i])\n",
    "print(doDFS(g))"
   ]
  }
 ],
 "metadata": {
  "kernelspec": {
   "display_name": "Python 3",
   "language": "python",
   "name": "python3"
  },
  "language_info": {
   "codemirror_mode": {
    "name": "ipython",
    "version": 3
   },
   "file_extension": ".py",
   "mimetype": "text/x-python",
   "name": "python",
   "nbconvert_exporter": "python",
   "pygments_lexer": "ipython3",
   "version": "3.8.8"
  }
 },
 "nbformat": 4,
 "nbformat_minor": 5
}
