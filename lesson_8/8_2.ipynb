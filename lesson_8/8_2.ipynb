{
 "cells": [
  {
   "cell_type": "code",
   "execution_count": null,
   "id": "5041c0b0",
   "metadata": {},
   "outputs": [],
   "source": [
    "# Закодируйте любую строку (хотя бы из трех слов) по алгоритму Хаффмана.\n",
    "from collections import Counter\n",
    "import heapq\n",
    "\n",
    "\n",
    "class MyNode:\n",
    "    def __init__(self, left=None, right=None):\n",
    "        self.left = left\n",
    "        self.right = right\n",
    "\n",
    "    def walk(self, code_dict, path):\n",
    "        self.left.walk(code_dict, path + \"0\")\n",
    "        self.right.walk(code_dict, path + \"1\")\n",
    "\n",
    "\n",
    "class Leaf:\n",
    "    def __init__(self, value):\n",
    "        self.value = value\n",
    "\n",
    "    def walk(self, code_dict, path):\n",
    "        code_dict[self.value] = path\n",
    "        return path\n",
    "\n",
    "\n",
    "def huffman(s):\n",
    "    lst = []\n",
    "\n",
    "    for i, item in Counter(s).items():\n",
    "        lst.append((item, len(lst), Leaf(i)))\n",
    "\n",
    "    iteration = len(lst)\n",
    "    heapq.heapify(lst)\n",
    "    while len(lst) > 1:\n",
    "        first = heapq.heappop(lst)\n",
    "        second = heapq.heappop(lst)\n",
    "        heapq.heappush(lst, (first[0] + second[0], iteration, MyNode(first[2], second[2])))\n",
    "        iteration += 1\n",
    "\n",
    "    code_dict = {}\n",
    "    if lst:\n",
    "        lst[0][2].walk(code_dict, \"\")\n",
    "    return code_dict\n",
    "\n",
    "s = 'beep boop beer!'\n",
    "print(f'Строка: \\n{s}')\n",
    "s = Counter(s)\n",
    "print(s)\n",
    "d = huffman(s)\n",
    "print(d)\n",
    "for key, value in d.items():\n",
    "    print(f'{key}: {value}')"
   ]
  }
 ],
 "metadata": {
  "kernelspec": {
   "display_name": "Python 3",
   "language": "python",
   "name": "python3"
  },
  "language_info": {
   "codemirror_mode": {
    "name": "ipython",
    "version": 3
   },
   "file_extension": ".py",
   "mimetype": "text/x-python",
   "name": "python",
   "nbconvert_exporter": "python",
   "pygments_lexer": "ipython3",
   "version": "3.8.8"
  }
 },
 "nbformat": 4,
 "nbformat_minor": 5
}
