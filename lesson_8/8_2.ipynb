{
 "cells": [
  {
   "cell_type": "code",
   "execution_count": null,
   "id": "3c883374",
   "metadata": {},
   "outputs": [],
   "source": [
    "# 2. Доработать алгоритм Дейкстры, чтобы он дополнительно возвращал список вершин, которые необходимо обойти.\n",
    "\n",
    "g = [\n",
    "    [0, 0, 1, 1, 9, 0, 0, 0],\n",
    "    [0, 0, 9, 4, 0, 0, 5, 0],\n",
    "    [0, 9, 0, 0, 3, 0, 6, 0],\n",
    "    [0, 0, 0, 0, 0, 0, 0, 0],\n",
    "    [0, 0, 0, 0, 0, 0, 1, 0],\n",
    "    [0, 0, 0, 0, 0, 0, 5, 0],\n",
    "    [0, 0, 7, 0, 8, 1, 0, 0],\n",
    "    [0, 0, 0, 0, 0, 1, 2, 0]\n",
    "]\n",
    "\n",
    "\n",
    "def dijkstra(graph, start):\n",
    "    length = len(graph)\n",
    "    is_visited = [False] * length\n",
    "    cost = [float('inf')] * length\n",
    "    parent = [-1] * length\n",
    "    cost[start] = 0\n",
    "    min_cost = 0\n",
    "\n",
    "    while min_cost < float('inf'):\n",
    "        is_visited[start] = True\n",
    "        for i, vertex in enumerate(graph[start]):\n",
    "            if vertex != 0 and not is_visited[i]:\n",
    "                if cost[i] > vertex + cost[start]:\n",
    "                    cost[i] = vertex + cost[start]\n",
    "                    parent[i] = start\n",
    "\n",
    "        min_cost = float('inf')\n",
    "        for i in range(length):\n",
    "            if min_cost > cost[i] and not is_visited[i]:\n",
    "                min_cost = cost[i]\n",
    "                start = i\n",
    "\n",
    "    ways = []\n",
    "    for i in range(length):\n",
    "        j = i\n",
    "        way = [i]\n",
    "        while parent[j] != -1:\n",
    "            way.append(parent[j])\n",
    "            j = parent[j]\n",
    "        ways.append(way)\n",
    "    return cost, ways\n",
    "\n",
    "\n",
    "s = int(input('От какой вершины идти: '))\n",
    "result = dijkstra(g, s)\n",
    "print(f'Стоимость путей до каждой вершины {result[0]}')\n",
    "print(f'Списки вершин дo каждой вершины {result[1]}')"
   ]
  }
 ],
 "metadata": {
  "kernelspec": {
   "display_name": "Python 3",
   "language": "python",
   "name": "python3"
  },
  "language_info": {
   "codemirror_mode": {
    "name": "ipython",
    "version": 3
   },
   "file_extension": ".py",
   "mimetype": "text/x-python",
   "name": "python",
   "nbconvert_exporter": "python",
   "pygments_lexer": "ipython3",
   "version": "3.8.8"
  }
 },
 "nbformat": 4,
 "nbformat_minor": 5
}
