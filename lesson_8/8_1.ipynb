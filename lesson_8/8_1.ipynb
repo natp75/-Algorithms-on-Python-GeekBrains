{
 "cells": [
  {
   "cell_type": "code",
   "execution_count": 1,
   "id": "5c191bc6",
   "metadata": {},
   "outputs": [],
   "source": [
    "# 1. Определение количества различных подстрок с использованием хеш-функции.\n",
    "import hashlib\n",
    "\n",
    "\n",
    "def all_substr(s):\n",
    "    h_lst = []\n",
    "    s_lst = []\n",
    "\n",
    "    for len_sub in range(1, len(s)):\n",
    "        for i in range(len(s) - len_sub + 1):\n",
    "            h_sub = hashlib.sha1(s[i:i + len_sub].encode('utf-8')).hexdigest()\n",
    "            if h_sub not in h_lst:\n",
    "                h_lst.append(h_sub)\n",
    "                s_lst.append(s[i:i + len_sub])\n",
    "\n",
    "    if len(s_lst) > 0:\n",
    "        return f'В строке \"{s}\" найдено {len(s_lst)} уникальных подстрок: \\n{s_lst}'\n",
    "    return 'Пустая строка'\n",
    "\n",
    "s = input('Введите строку: ')\n",
    "print(all_substr(s))"
   ]
  },
  {
   "cell_type": "code",
   "execution_count": null,
   "id": "f306abcb",
   "metadata": {},
   "outputs": [],
   "source": []
  }
 ],
 "metadata": {
  "kernelspec": {
   "display_name": "Python 3",
   "language": "python",
   "name": "python3"
  },
  "language_info": {
   "codemirror_mode": {
    "name": "ipython",
    "version": 3
   },
   "file_extension": ".py",
   "mimetype": "text/x-python",
   "name": "python",
   "nbconvert_exporter": "python",
   "pygments_lexer": "ipython3",
   "version": "3.8.8"
  }
 },
 "nbformat": 4,
 "nbformat_minor": 5
}
