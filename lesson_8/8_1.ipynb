{
 "cells": [
  {
   "cell_type": "code",
   "execution_count": 1,
   "id": "2fb79666",
   "metadata": {},
   "outputs": [],
   "source": [
    "# 1. На улице встретились N друзей. Каждый пожал руку всем остальным друзьям (по одному разу). Сколько рукопожатий было?\n",
    "# Решите задачу при помощи построения графа.\n",
    "from functools import reduce\n",
    "\n",
    "n = int(input('Сколько встретилось друзей: '))\n",
    "graph = [[int(i > j) for i in range(n)] for j in range(n)]\n",
    "count = reduce(lambda acc, x: acc + sum(x), graph, 0)\n",
    "print(f'Количество рукопожатий {count}')"
   ]
  },
  {
   "cell_type": "code",
   "execution_count": null,
   "id": "54a78692",
   "metadata": {},
   "outputs": [],
   "source": []
  }
 ],
 "metadata": {
  "kernelspec": {
   "display_name": "Python 3",
   "language": "python",
   "name": "python3"
  },
  "language_info": {
   "codemirror_mode": {
    "name": "ipython",
    "version": 3
   },
   "file_extension": ".py",
   "mimetype": "text/x-python",
   "name": "python",
   "nbconvert_exporter": "python",
   "pygments_lexer": "ipython3",
   "version": "3.8.8"
  }
 },
 "nbformat": 4,
 "nbformat_minor": 5
}
